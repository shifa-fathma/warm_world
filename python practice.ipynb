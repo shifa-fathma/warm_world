{
 "cells": [
  {
   "cell_type": "code",
   "execution_count": 1,
   "id": "bdfb8746",
   "metadata": {},
   "outputs": [
    {
     "name": "stdout",
     "output_type": "stream",
     "text": [
      "Enter a list of numbers : 12,3,47,10\n",
      "47 is the largest number.\n"
     ]
    }
   ],
   "source": [
    "#3\n",
    "numbers = [int(x) for x in input(\"Enter a list of numbers : \").split(\",\")]\n",
    "largest_number = max(numbers)\n",
    "\n",
    "\n",
    "print(f\"{largest_number} is the largest number.\")\n"
   ]
  },
  {
   "cell_type": "code",
   "execution_count": 2,
   "id": "1fbff488",
   "metadata": {},
   "outputs": [
    {
     "name": "stdout",
     "output_type": "stream",
     "text": [
      "Enter the name: Anisha\n",
      "Enter the roll number: 21\n",
      "Enter the mark: 78\n",
      "Name: Anisha\n",
      "Roll No: 21\n",
      "Mark: 78.0\n"
     ]
    }
   ],
   "source": [
    "#2\n",
    "\n",
    "name = input(\"Enter the name: \")\n",
    "roll_number = input(\"Enter the roll number: \")\n",
    "mark = float(input(\"Enter the mark: \"))\n",
    "\n",
    "print(f\"Name: {name}\")\n",
    "print(f\"Roll No: {roll_number}\")\n",
    "print(f\"Mark: {mark}\")\n"
   ]
  },
  {
   "cell_type": "code",
   "execution_count": 3,
   "id": "06e9b8e0",
   "metadata": {},
   "outputs": [
    {
     "name": "stdout",
     "output_type": "stream",
     "text": [
      "Current Number 1 Previous Number 0 Sum: 1\n",
      "Current Number 2 Previous Number 1 Sum: 3\n",
      "Current Number 3 Previous Number 2 Sum: 5\n",
      "Current Number 4 Previous Number 3 Sum: 7\n",
      "Current Number 5 Previous Number 4 Sum: 9\n",
      "Current Number 6 Previous Number 5 Sum: 11\n",
      "Current Number 7 Previous Number 6 Sum: 13\n",
      "Current Number 8 Previous Number 7 Sum: 15\n",
      "Current Number 9 Previous Number 8 Sum: 17\n",
      "Current Number 10 Previous Number 9 Sum: 19\n"
     ]
    }
   ],
   "source": [
    "#4\n",
    "\n",
    "for current_number in range(1, 11):\n",
    "   \n",
    "    if current_number == 1:\n",
    "        previous_number = 0\n",
    "    else:\n",
    "        previous_number = current_number - 1\n",
    "    \n",
    "\n",
    "    current_sum = current_number + previous_number\n",
    "    print(f\"Current Number {current_number} Previous Number {previous_number} Sum: {current_sum}\")\n"
   ]
  },
  {
   "cell_type": "code",
   "execution_count": 6,
   "id": "4280efd1",
   "metadata": {},
   "outputs": [
    {
     "name": "stdout",
     "output_type": "stream",
     "text": [
      "10 is divisible by 5.\n",
      "20 is divisible by 5.\n",
      "33 is not divisible by 5.\n",
      "46 is not divisible by 5.\n",
      "55 is divisible by 5.\n"
     ]
    }
   ],
   "source": [
    "#5\n",
    "numbers = [10, 20, 33, 46, 55]\n",
    "for number in numbers:\n",
    "    if number % 5 == 0:\n",
    "        print(f\"{number} is divisible by 5.\")\n",
    "    else:\n",
    "        print(f\"{number} is not divisible by 5.\")\n"
   ]
  },
  {
   "cell_type": "code",
   "execution_count": 7,
   "id": "570d66bb",
   "metadata": {},
   "outputs": [
    {
     "name": "stdout",
     "output_type": "stream",
     "text": [
      "Enter the number: 3\n",
      "3 is a prime number.\n"
     ]
    }
   ],
   "source": [
    "#6\n",
    "num = int(input(\"Enter the number: \"))\n",
    "\n",
    "\n",
    "prime = True\n",
    "\n",
    "if num < 2:\n",
    "    prime = False\n",
    "else:\n",
    "    for i in range(2, int(num**0.5) + 1):\n",
    "        if num % i == 0:\n",
    "            prime = False\n",
    "            break\n",
    "\n",
    "\n",
    "if prime:\n",
    "    print(f\"{num} is a prime number.\")\n",
    "else:\n",
    "    print(f\"{num} is not a prime number.\")\n"
   ]
  },
  {
   "cell_type": "code",
   "execution_count": 8,
   "id": "3bc46804",
   "metadata": {},
   "outputs": [
    {
     "name": "stdout",
     "output_type": "stream",
     "text": [
      " first number: 34\n",
      " second number: 12\n",
      " third number: 7\n",
      "The maximum of 34.0, 12.0, and 7.0 is 34.0.\n"
     ]
    }
   ],
   "source": [
    "# 9\n",
    "num1 = float(input(\" first number: \"))\n",
    "num2 = float(input(\" second number: \"))\n",
    "num3 = float(input(\" third number: \"))\n",
    "\n",
    "\n",
    "max_number = max(num1, num2, num3)\n",
    "\n",
    "\n",
    "print(f\"The maximum of {num1}, {num2}, and {num3} is {max_number}.\")\n"
   ]
  },
  {
   "cell_type": "code",
   "execution_count": 9,
   "id": "8c897fbb",
   "metadata": {},
   "outputs": [],
   "source": [
    "#exercise 2 "
   ]
  },
  {
   "cell_type": "code",
   "execution_count": 10,
   "id": "680da164",
   "metadata": {},
   "outputs": [
    {
     "name": "stdout",
     "output_type": "stream",
     "text": [
      "Enter a list of numbers : 2,3,4,2,5,2\n",
      "The most frequent item in the list is: 2\n"
     ]
    }
   ],
   "source": [
    "#6\n",
    "numbers = [int(x) for x in input(\"Enter a list of numbers : \").split(\",\")]\n",
    "\n",
    "\n",
    "most_frequent_item = max(set(numbers), key=numbers.count)\n",
    "\n",
    "\n",
    "print(f\"The most frequent item in the list is: {most_frequent_item}\")\n"
   ]
  },
  {
   "cell_type": "code",
   "execution_count": 11,
   "id": "818e2430",
   "metadata": {},
   "outputs": [
    {
     "name": "stdout",
     "output_type": "stream",
     "text": [
      "Enter a list of numbers : 2,1,3,1\n",
      "The sum of squares of the numbers in the list is: 15\n"
     ]
    }
   ],
   "source": [
    "#7\n",
    "\n",
    "numbers = [int(x) for x in input(\"Enter a list of numbers : \").split(\",\")]\n",
    "\n",
    "\n",
    "sum_of_squares = sum(x**2 for x in numbers)\n",
    "\n",
    "\n",
    "print(f\"The sum of squares of the numbers in the list is: {sum_of_squares}\")\n"
   ]
  },
  {
   "cell_type": "code",
   "execution_count": 13,
   "id": "81c39e99",
   "metadata": {},
   "outputs": [
    {
     "name": "stdout",
     "output_type": "stream",
     "text": [
      " first number: 34\n",
      " second number: 12\n",
      " third number: 7\n",
      "The maximum of 34.0, 12.0, and 7.0 is: 34.0\n"
     ]
    }
   ],
   "source": [
    "def find_maximum(num1, num2, num3):\n",
    "    return max(num1, num2, num3)\n",
    "\n",
    "\n",
    "num1 = float(input(\" first number: \"))\n",
    "num2 = float(input(\" second number: \"))\n",
    "num3 = float(input(\" third number: \"))\n",
    "\n",
    "result = find_maximum(num1, num2, num3)\n",
    "print(f\"The maximum of {num1}, {num2}, and {num3} is: {result}\")\n"
   ]
  },
  {
   "cell_type": "code",
   "execution_count": null,
   "id": "18a041b0",
   "metadata": {},
   "outputs": [],
   "source": []
  }
 ],
 "metadata": {
  "kernelspec": {
   "display_name": "Python 3 (ipykernel)",
   "language": "python",
   "name": "python3"
  },
  "language_info": {
   "codemirror_mode": {
    "name": "ipython",
    "version": 3
   },
   "file_extension": ".py",
   "mimetype": "text/x-python",
   "name": "python",
   "nbconvert_exporter": "python",
   "pygments_lexer": "ipython3",
   "version": "3.10.9"
  }
 },
 "nbformat": 4,
 "nbformat_minor": 5
}
